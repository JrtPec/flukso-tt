{
 "cells": [
  {
   "cell_type": "markdown",
   "metadata": {},
   "source": [
    "# 1. Find the address of your FLM in your LAN"
   ]
  },
  {
   "cell_type": "code",
   "execution_count": null,
   "metadata": {},
   "outputs": [],
   "source": [
    "from zeroconf_discover import discover_flm"
   ]
  },
  {
   "cell_type": "code",
   "execution_count": null,
   "metadata": {},
   "outputs": [],
   "source": [
    "flm = discover_flm()"
   ]
  },
  {
   "cell_type": "code",
   "execution_count": null,
   "metadata": {},
   "outputs": [],
   "source": [
    "flm"
   ]
  },
  {
   "cell_type": "markdown",
   "metadata": {},
   "source": [
    "# 2. Get your Water Sensor configuration"
   ]
  },
  {
   "cell_type": "code",
   "execution_count": null,
   "metadata": {},
   "outputs": [],
   "source": [
    "from mqtt_discover import discover_sensors_by_type"
   ]
  },
  {
   "cell_type": "code",
   "execution_count": null,
   "metadata": {},
   "outputs": [],
   "source": [
    "water_sensors = discover_sensors_by_type(flm, type='water')"
   ]
  },
  {
   "cell_type": "code",
   "execution_count": null,
   "metadata": {},
   "outputs": [],
   "source": [
    "water_sensors"
   ]
  },
  {
   "cell_type": "code",
   "execution_count": null,
   "metadata": {},
   "outputs": [],
   "source": [
    "sensor_config = water_sensors[0]"
   ]
  },
  {
   "cell_type": "markdown",
   "metadata": {},
   "source": [
    "# 3. Create logic"
   ]
  },
  {
   "cell_type": "markdown",
   "metadata": {},
   "source": [
    "## Callback function"
   ]
  },
  {
   "cell_type": "markdown",
   "metadata": {},
   "source": [
    "We want to find a water leak, by exploiting the fact that the water flow always has to go to zero at some point. If it doesn't, it means that water is constantly flowing and you have a problem.\n",
    "\n",
    "Since water meters are pulse counters, we are simply going define a timespan wherein no pulses should arrive, and a reporting period wherein this timespan should lie.\n",
    "\n",
    "For instance: I excpect that in a period of 24 hours, there will be at least 1 hour without pulses. If that hour is not found, we detect a leak."
   ]
  },
  {
   "cell_type": "markdown",
   "metadata": {},
   "source": [
    "Since such a method requires that some state is persisted, a simple function does not suffice. We will need to subclass the `SensorHandler`."
   ]
  },
  {
   "cell_type": "code",
   "execution_count": null,
   "metadata": {},
   "outputs": [],
   "source": [
    "from pandas import Timestamp\n",
    "from handlers import SensorHandler\n",
    "\n",
    "class WaterLeakHandler(SensorHandler):\n",
    "    def __init__(self, timespan=3600, reporting_period=86400, **kwargs):\n",
    "        self.timespan = timespan\n",
    "        self.reporting_period = reporting_period\n",
    "        self.last_pulse = 0\n",
    "        self.last_gap = 0\n",
    "        \n",
    "        super(WaterLeakHandler, self).__init__(**kwargs)\n",
    "        \n",
    "        self.on_message = self.detect_leak\n",
    "        \n",
    "    def detect_leak(self, timestamp, **kwargs):\n",
    "        detected = self._detect_leak(timestamp=timestamp, **kwargs)\n",
    "        self.last_pulse = timestamp\n",
    "        return detected\n",
    "        \n",
    "    def _detect_leak(self, timestamp, **kwargs):\n",
    "        # if the time between this and last pulse is larger than `timespan`, we have a gap and we can save it\n",
    "        if timestamp - self.last_pulse > self.timespan:\n",
    "            self.last_gap = timestamp\n",
    "        else:\n",
    "            # if not, we go and see if the last gap was longer ago then the reporting period\n",
    "            if timestamp - self.last_gap > self.reporting_period:\n",
    "                print(\"Leak detected! Haven't had {:.2f} minutes without water consumption since {}\".format(self.timespan/60, str(Timestamp.fromtimestamp(self.last_gap))))\n",
    "                return True\n",
    "        return False"
   ]
  },
  {
   "cell_type": "markdown",
   "metadata": {},
   "source": [
    "## Create Handler"
   ]
  },
  {
   "cell_type": "code",
   "execution_count": null,
   "metadata": {},
   "outputs": [],
   "source": [
    "# configure timespan and reporting period to something low, so you can turn on your tap and see if it works\n",
    "handler = WaterLeakHandler(sconfig=sensor_config, timespan=5, reporting_period=10)"
   ]
  },
  {
   "cell_type": "markdown",
   "metadata": {},
   "source": [
    "# 4. Create an MQTT subscriber, and run!"
   ]
  },
  {
   "cell_type": "code",
   "execution_count": null,
   "metadata": {},
   "outputs": [],
   "source": [
    "from mqtt_subscriber import Subscriber"
   ]
  },
  {
   "cell_type": "code",
   "execution_count": null,
   "metadata": {},
   "outputs": [],
   "source": [
    "subscriber = Subscriber(flm=flm, handlers=[handler])"
   ]
  },
  {
   "cell_type": "code",
   "execution_count": null,
   "metadata": {},
   "outputs": [],
   "source": [
    "subscriber.run()"
   ]
  },
  {
   "cell_type": "code",
   "execution_count": null,
   "metadata": {},
   "outputs": [],
   "source": []
  }
 ],
 "metadata": {
  "kernelspec": {
   "display_name": "Python 3",
   "language": "python",
   "name": "python3"
  },
  "language_info": {
   "codemirror_mode": {
    "name": "ipython",
    "version": 3
   },
   "file_extension": ".py",
   "mimetype": "text/x-python",
   "name": "python",
   "nbconvert_exporter": "python",
   "pygments_lexer": "ipython3",
   "version": "3.5.0"
  }
 },
 "nbformat": 4,
 "nbformat_minor": 1
}
