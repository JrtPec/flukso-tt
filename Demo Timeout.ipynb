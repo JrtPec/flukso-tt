{
 "cells": [
  {
   "cell_type": "markdown",
   "metadata": {
    "collapsed": true
   },
   "source": [
    "Use the timeout argument to stop a callback function from executing a while after it has last been called."
   ]
  },
  {
   "cell_type": "code",
   "execution_count": null,
   "metadata": {
    "collapsed": true
   },
   "outputs": [],
   "source": [
    "flm = 'flukso-adc6d8.local.'\n",
    "sensor_config = {'data_type': 'gauge',\n",
    "  'id': '064fe87f3b0879ae531fa71dee4ac037',\n",
    "  'port': [1],\n",
    "  'subtype': 'pplus',\n",
    "  'type': 'electricity'}"
   ]
  },
  {
   "cell_type": "code",
   "execution_count": null,
   "metadata": {
    "collapsed": true
   },
   "outputs": [],
   "source": [
    "def callback(value, timestamp, unit, **kwargs): \n",
    "    if value > 500:\n",
    "        # do something that you don't want to do every second\n",
    "        print(\"Value of {} {} registered at {}\".format(value, unit, timestamp))\n",
    "        return True\n",
    "    return False"
   ]
  },
  {
   "cell_type": "markdown",
   "metadata": {},
   "source": [
    "Note: your function has to return `True` if it has been \"triggered\" in order for the timeout to work"
   ]
  },
  {
   "cell_type": "code",
   "execution_count": null,
   "metadata": {
    "collapsed": true
   },
   "outputs": [],
   "source": [
    "from handlers import SensorHandler\n",
    "handler = SensorHandler(sconfig=sensor_config, timeout=10)\n",
    "handler.on_message = callback"
   ]
  },
  {
   "cell_type": "code",
   "execution_count": null,
   "metadata": {
    "collapsed": false
   },
   "outputs": [],
   "source": [
    "from mqtt_subscriber import Subscriber\n",
    "subscriber = Subscriber(flm=flm, handlers=[handler])\n",
    "subscriber.run()"
   ]
  },
  {
   "cell_type": "code",
   "execution_count": null,
   "metadata": {
    "collapsed": true
   },
   "outputs": [],
   "source": []
  },
  {
   "cell_type": "code",
   "execution_count": null,
   "metadata": {
    "collapsed": true
   },
   "outputs": [],
   "source": []
  }
 ],
 "metadata": {
  "kernelspec": {
   "display_name": "Python 3",
   "language": "python",
   "name": "python3"
  },
  "language_info": {
   "codemirror_mode": {
    "name": "ipython",
    "version": 3
   },
   "file_extension": ".py",
   "mimetype": "text/x-python",
   "name": "python",
   "nbconvert_exporter": "python",
   "pygments_lexer": "ipython3",
   "version": "3.5.0"
  }
 },
 "nbformat": 4,
 "nbformat_minor": 1
}
